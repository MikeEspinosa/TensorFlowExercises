{
 "cells": [
  {
   "cell_type": "code",
   "execution_count": 7,
   "metadata": {
    "collapsed": false
   },
   "outputs": [
    {
     "name": "stdout",
     "output_type": "stream",
     "text": [
      "23\n"
     ]
    }
   ],
   "source": [
    "import tensorflow as tf\n",
    "import matplotlib.pyplot as plt # Dataset visualization.\n",
    "import numpy as np              # Low-level numerical Python library.\n",
    "import pandas as pd             # Higher-level numerical Python library.\n",
    "\n",
    "#create a graph\n",
    "graph = tf.Graph()\n",
    "\n",
    "# Establish the graph as a \"default\" graph.\n",
    "with graph.as_default():\n",
    "    # Assemble a graph consisting of the following three operations:\n",
    "    #   * Two tf.constant operations to create the operands.\n",
    "    #   * One tf.add operation to add the two operands.\n",
    "    \n",
    "    x = tf.constant(8, name=\"x_const\")\n",
    "    y = tf.constant(5, name=\"y_const\")\n",
    "    z = tf.constant(10, name = \"z_const\")\n",
    "    my_sum = tf.add(x, y, name = \"x_y_sum\")\n",
    "    my_sum = tf.add(my_sum, z, name = \"x_y_z_sum\")\n",
    "    \n",
    "    #Now create a session\n",
    "    #The session will run the default graph\n",
    "    \n",
    "    with tf.Session() as sess:\n",
    "      print my_sum.eval()"
   ]
  },
  {
   "cell_type": "code",
   "execution_count": null,
   "metadata": {
    "collapsed": true
   },
   "outputs": [],
   "source": []
  }
 ],
 "metadata": {
  "kernelspec": {
   "display_name": "Python 2",
   "language": "python",
   "name": "python2"
  },
  "language_info": {
   "codemirror_mode": {
    "name": "ipython",
    "version": 2
   },
   "file_extension": ".py",
   "mimetype": "text/x-python",
   "name": "python",
   "nbconvert_exporter": "python",
   "pygments_lexer": "ipython2",
   "version": "2.7.9"
  }
 },
 "nbformat": 4,
 "nbformat_minor": 2
}
